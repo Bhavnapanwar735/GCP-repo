{
  "nbformat": 4,
  "nbformat_minor": 0,
  "metadata": {
    "colab": {
      "name": "MathOperations.ipynb",
      "provenance": [],
      "authorship_tag": "ABX9TyMdJ5lswvToaQCQJJ3T+dk9",
      "include_colab_link": true
    },
    "kernelspec": {
      "name": "python3",
      "display_name": "Python 3"
    }
  },
  "cells": [
    {
      "cell_type": "markdown",
      "metadata": {
        "id": "view-in-github",
        "colab_type": "text"
      },
      "source": [
        "<a href=\"https://colab.research.google.com/github/Bhavnapanwar735/GCP-repo/blob/master/MathOperations.ipynb\" target=\"_parent\"><img src=\"https://colab.research.google.com/assets/colab-badge.svg\" alt=\"Open In Colab\"/></a>"
      ]
    },
    {
      "cell_type": "code",
      "metadata": {
        "colab": {
          "base_uri": "https://localhost:8080/"
        },
        "id": "fvScnUHVbquV",
        "outputId": "ebc32e1f-0f34-44a4-b7ae-659fdd328b7f"
      },
      "source": [
        "x=5\r\n",
        "y=5\r\n",
        "\r\n",
        "print(x+y)\r\n",
        "print(x-y)\r\n",
        "print(x*y)\r\n",
        "print(x/y)"
      ],
      "execution_count": null,
      "outputs": [
        {
          "output_type": "stream",
          "text": [
            "10\n",
            "0\n",
            "25\n",
            "1.0\n"
          ],
          "name": "stdout"
        }
      ]
    }
  ]
}